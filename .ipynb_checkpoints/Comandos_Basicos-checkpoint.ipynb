{
 "cells": [
  {
   "cell_type": "markdown",
   "id": "64da32a4",
   "metadata": {},
   "source": [
    "### Observação !!!\n",
    "Nessas anotações foi utilizada a biblioteca cryptography, que utiliza um algortmo simetricon, onde para criptografar e descriptografar um arquivo preciusamos de uma chave para ambos os casos. Essas anotações foram feitas durante a leitura dos seguintes pousts:\n",
    "\n",
    "### Referencias:\n",
    "* [CRIPTOGRAFAR E DESCRIPTOGRAFAR ARQUIVOS USANDO PYTHON](https://acervolima.com/criptografar-e-descriptografar-arquivos-usando-python/)\n",
    "* [Criptografar uma string Python](https://www.delftstack.com/pt/howto/python/python-encrypt-string/)"
   ]
  },
  {
   "cell_type": "code",
   "execution_count": 1,
   "id": "31bad478",
   "metadata": {},
   "outputs": [
    {
     "name": "stdout",
     "output_type": "stream",
     "text": [
      "Requirement already satisfied: cryptography in d:\\windows\\conda\\lib\\site-packages (3.4.8)\n",
      "Requirement already satisfied: cffi>=1.12 in d:\\windows\\conda\\lib\\site-packages (from cryptography) (1.14.6)\n",
      "Requirement already satisfied: pycparser in d:\\windows\\conda\\lib\\site-packages (from cffi>=1.12->cryptography) (2.20)\n"
     ]
    }
   ],
   "source": [
    "!pip install cryptography"
   ]
  },
  {
   "cell_type": "markdown",
   "id": "a8f94bb1",
   "metadata": {},
   "source": [
    "### Gerar a chave para criptogradfar o arquivo"
   ]
  },
  {
   "cell_type": "code",
   "execution_count": 1,
   "id": "aba2ddf7",
   "metadata": {},
   "outputs": [],
   "source": [
    "from cryptography.fernet import Fernet"
   ]
  },
  {
   "cell_type": "code",
   "execution_count": 2,
   "id": "8515163f",
   "metadata": {},
   "outputs": [],
   "source": [
    "#geração de chave\n",
    "key = Fernet.generate_key()"
   ]
  },
  {
   "cell_type": "code",
   "execution_count": 3,
   "id": "2ae3abea",
   "metadata": {},
   "outputs": [],
   "source": [
    "# colocando a chave em um arquivo\n",
    "with open('filekey.key','wb') as filekey:\n",
    "    filekey.write(key)"
   ]
  },
  {
   "cell_type": "markdown",
   "id": "070fe8e5",
   "metadata": {},
   "source": [
    "### Criptografar o arquivo usando a chave gerada"
   ]
  },
  {
   "cell_type": "code",
   "execution_count": 4,
   "id": "dfb3d9fb",
   "metadata": {},
   "outputs": [],
   "source": [
    "# Abra o arquivo com a chave\n",
    "with open('filekey.key','rb') as filekey:\n",
    "    key = filekey.read()"
   ]
  },
  {
   "cell_type": "code",
   "execution_count": 5,
   "id": "5a67727f",
   "metadata": {},
   "outputs": [],
   "source": [
    "# Usando a chave\n",
    "fernet = Fernet(key)"
   ]
  },
  {
   "cell_type": "code",
   "execution_count": 8,
   "id": "704c7328",
   "metadata": {},
   "outputs": [
    {
     "name": "stdout",
     "output_type": "stream",
     "text": [
      "Original: Jeanderson Gomes de Sousa\n",
      "Criptografada: b'gAAAAABh8-eR3sCSKkbkL7qA1s01z2Pri70NhXKXBJzhJd_rrl_JgwW8VnbywSFbIQ24wc_t0kIJgyudcKkZuOZuo_iCEouCsQcIjrO-oNSb6b42F5BpNro='\n",
      "Descriptografada: Jeanderson Gomes de Sousa\n"
     ]
    }
   ],
   "source": [
    "original = 'Jeanderson Gomes de Sousa'\n",
    "# criptografando arquivo\n",
    "enctex = fernet.encrypt(original.encode())\n",
    "dectex = fernet.decrypt(enctex).decode()\n",
    "\n",
    "print('Original:',original)\n",
    "print('Criptografada:',enctex)\n",
    "print('Descriptografada:',dectex)"
   ]
  },
  {
   "cell_type": "code",
   "execution_count": null,
   "id": "baf76c07",
   "metadata": {},
   "outputs": [],
   "source": []
  }
 ],
 "metadata": {
  "kernelspec": {
   "display_name": "Python 3 (ipykernel)",
   "language": "python",
   "name": "python3"
  },
  "language_info": {
   "codemirror_mode": {
    "name": "ipython",
    "version": 3
   },
   "file_extension": ".py",
   "mimetype": "text/x-python",
   "name": "python",
   "nbconvert_exporter": "python",
   "pygments_lexer": "ipython3",
   "version": "3.9.7"
  }
 },
 "nbformat": 4,
 "nbformat_minor": 5
}
