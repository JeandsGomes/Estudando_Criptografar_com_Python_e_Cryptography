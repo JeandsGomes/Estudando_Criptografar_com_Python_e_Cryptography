{
 "cells": [
  {
   "cell_type": "markdown",
   "id": "d190e1b6",
   "metadata": {},
   "source": [
    "### Referencias:\n",
    "* [Encriptando Senhas em Python com bcrypt](https://medium.com/py-bcrypt/encriptando-senhas-em-python-com-bcrypt-25e46b5c8166)\n",
    "* [Python bcrypt – Hash a Password with bcrypt](https://howtodoinjava.com/modules/python-bcrypt-hash-password/)"
   ]
  },
  {
   "cell_type": "code",
   "execution_count": 1,
   "id": "bd9a22c7",
   "metadata": {},
   "outputs": [
    {
     "name": "stdout",
     "output_type": "stream",
     "text": [
      "Requirement already satisfied: bcrypt in d:\\windows\\conda\\lib\\site-packages (3.2.0)\n",
      "Requirement already satisfied: six>=1.4.1 in d:\\windows\\conda\\lib\\site-packages (from bcrypt) (1.16.0)\n",
      "Requirement already satisfied: cffi>=1.1 in d:\\windows\\conda\\lib\\site-packages (from bcrypt) (1.14.6)\n",
      "Requirement already satisfied: pycparser in d:\\windows\\conda\\lib\\site-packages (from cffi>=1.1->bcrypt) (2.20)\n"
     ]
    }
   ],
   "source": [
    "! pip install bcrypt"
   ]
  },
  {
   "cell_type": "code",
   "execution_count": 3,
   "id": "6bc69b1d",
   "metadata": {},
   "outputs": [],
   "source": [
    "import bcrypt"
   ]
  },
  {
   "cell_type": "code",
   "execution_count": 9,
   "id": "e77ffaee",
   "metadata": {},
   "outputs": [
    {
     "name": "stdout",
     "output_type": "stream",
     "text": [
      "Hash: b'$2b$12$QIweZ3jzguz3rzNpzMKeu.aTJ/vV42/GtoCzhXYHIN.o.js5VN7C2'\n"
     ]
    }
   ],
   "source": [
    "passwd = b'Sthefany123'\n",
    "# hashed = bcrypt.hashpw(passwd, bcrypt.gensalt())\n",
    "hashed = bcrypt.hashpw(passwd,bcrypt.gensalt())\n",
    "print(\"Hash:\",hashed)"
   ]
  },
  {
   "cell_type": "code",
   "execution_count": 17,
   "id": "082ff602",
   "metadata": {},
   "outputs": [
    {
     "name": "stdout",
     "output_type": "stream",
     "text": [
      "Hash: b'$2b$10$RLExTva42/JxiJJ1Jd8rM.YiRnyvWn9il5v4XpyQEBKxg/iPoI9rm'\n",
      "Resultado: True\n"
     ]
    }
   ],
   "source": [
    "passwd = b'Sthefany123'\n",
    "hashed = bcrypt.hashpw(passwd, bcrypt.gensalt(10))\n",
    "print(\"Hash:\",hashed)\n",
    "# Verificação de hash\n",
    "matched = bcrypt.checkpw(passwd, hashed)\n",
    "print('Resultado:',matched)\n"
   ]
  },
  {
   "cell_type": "code",
   "execution_count": null,
   "id": "f22a331b",
   "metadata": {},
   "outputs": [],
   "source": []
  }
 ],
 "metadata": {
  "kernelspec": {
   "display_name": "Python 3 (ipykernel)",
   "language": "python",
   "name": "python3"
  },
  "language_info": {
   "codemirror_mode": {
    "name": "ipython",
    "version": 3
   },
   "file_extension": ".py",
   "mimetype": "text/x-python",
   "name": "python",
   "nbconvert_exporter": "python",
   "pygments_lexer": "ipython3",
   "version": "3.9.7"
  }
 },
 "nbformat": 4,
 "nbformat_minor": 5
}
